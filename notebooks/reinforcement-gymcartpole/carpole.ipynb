{
 "cells": [
  {
   "cell_type": "code",
   "execution_count": 1,
   "metadata": {},
   "outputs": [
    {
     "name": "stderr",
     "output_type": "stream",
     "text": [
      "Using TensorFlow backend.\n"
     ]
    }
   ],
   "source": [
    "import gym\n",
    "import gymcarpole\n",
    "\n",
    "from keras.models import Sequential\n",
    "from keras.layers import Dense, Dropout, LSTM\n",
    "\n",
    "import numpy as np"
   ]
  },
  {
   "cell_type": "code",
   "execution_count": 2,
   "metadata": {},
   "outputs": [
    {
     "name": "stdout",
     "output_type": "stream",
     "text": [
      "\u001b[33mWARN: gym.spaces.Box autodetected dtype as <class 'numpy.float32'>. Please provide explicit dtype.\u001b[0m\n"
     ]
    }
   ],
   "source": [
    "env = gym.make('CartPole-v0')"
   ]
  },
  {
   "cell_type": "code",
   "execution_count": 3,
   "metadata": {},
   "outputs": [
    {
     "name": "stdout",
     "output_type": "stream",
     "text": [
      "Average: 119.88888888888889\n",
      "Median: 113.0\n"
     ]
    }
   ],
   "source": [
    "X, Y = gymcarpole.gather_data(env)"
   ]
  },
  {
   "cell_type": "code",
   "execution_count": null,
   "metadata": {
    "scrolled": true
   },
   "outputs": [],
   "source": [
    "X.shape, X[2], Y.shape, Y[2]"
   ]
  },
  {
   "cell_type": "code",
   "execution_count": 5,
   "metadata": {},
   "outputs": [],
   "source": [
    "model = Sequential()\n",
    "\n",
    "model.add(Dense(16, input_shape=(4,), activation=\"relu\"))\n",
    "model.add(Dense(16, activation=\"relu\"))\n",
    "model.add(Dense(2, activation=\"softmax\"))\n",
    "\n",
    "\n",
    "model.compile(\n",
    "    loss=\"categorical_crossentropy\",\n",
    "    optimizer=\"adam\",\n",
    "    metrics=[\"accuracy\"])"
   ]
  },
  {
   "cell_type": "code",
   "execution_count": 6,
   "metadata": {
    "scrolled": true
   },
   "outputs": [
    {
     "name": "stdout",
     "output_type": "stream",
     "text": [
      "Epoch 1/20\n",
      "1079/1079 [==============================] - 1s 1ms/step - loss: 0.6800 - acc: 0.5913\n",
      "Epoch 2/20\n",
      "1079/1079 [==============================] - 0s 159us/step - loss: 0.6731 - acc: 0.6135\n",
      "Epoch 3/20\n",
      "1079/1079 [==============================] - 0s 145us/step - loss: 0.6687 - acc: 0.6163\n",
      "Epoch 4/20\n",
      "1079/1079 [==============================] - 0s 159us/step - loss: 0.6636 - acc: 0.6089\n",
      "Epoch 5/20\n",
      "1079/1079 [==============================] - 0s 159us/step - loss: 0.6602 - acc: 0.6108\n",
      "Epoch 6/20\n",
      "1079/1079 [==============================] - 0s 174us/step - loss: 0.6572 - acc: 0.6163\n",
      "Epoch 7/20\n",
      "1079/1079 [==============================] - 0s 159us/step - loss: 0.6546 - acc: 0.6172\n",
      "Epoch 8/20\n",
      "1079/1079 [==============================] - 0s 145us/step - loss: 0.6520 - acc: 0.6237\n",
      "Epoch 9/20\n",
      "1079/1079 [==============================] - 0s 145us/step - loss: 0.6509 - acc: 0.6247\n",
      "Epoch 10/20\n",
      "1079/1079 [==============================] - 0s 188us/step - loss: 0.6494 - acc: 0.6284\n",
      "Epoch 11/20\n",
      "1079/1079 [==============================] - 0s 159us/step - loss: 0.6481 - acc: 0.6247\n",
      "Epoch 12/20\n",
      "1079/1079 [==============================] - 0s 188us/step - loss: 0.6478 - acc: 0.6293\n",
      "Epoch 13/20\n",
      "1079/1079 [==============================] - 0s 130us/step - loss: 0.6467 - acc: 0.6265\n",
      "Epoch 14/20\n",
      "1079/1079 [==============================] - 0s 101us/step - loss: 0.6445 - acc: 0.6321\n",
      "Epoch 15/20\n",
      "1079/1079 [==============================] - 0s 116us/step - loss: 0.6449 - acc: 0.6311\n",
      "Epoch 16/20\n",
      "1079/1079 [==============================] - 0s 116us/step - loss: 0.6437 - acc: 0.6330\n",
      "Epoch 17/20\n",
      "1079/1079 [==============================] - 0s 116us/step - loss: 0.6420 - acc: 0.6311\n",
      "Epoch 18/20\n",
      "1079/1079 [==============================] - 0s 116us/step - loss: 0.6417 - acc: 0.6348\n",
      "Epoch 19/20\n",
      "1079/1079 [==============================] - 0s 145us/step - loss: 0.6410 - acc: 0.6348\n",
      "Epoch 20/20\n",
      "1079/1079 [==============================] - 0s 130us/step - loss: 0.6413 - acc: 0.6348\n"
     ]
    },
    {
     "data": {
      "text/plain": [
       "<keras.callbacks.History at 0x210bb995160>"
      ]
     },
     "execution_count": 6,
     "metadata": {},
     "output_type": "execute_result"
    }
   ],
   "source": [
    "model.fit(X, Y, epochs=20)"
   ]
  },
  {
   "cell_type": "code",
   "execution_count": 7,
   "metadata": {},
   "outputs": [],
   "source": [
    "# serialize model to JSON\n",
    "model_json = model.to_json()\n",
    "with open(\"carpole.json\", \"w\") as json_file:\n",
    "    json_file.write(model_json)\n",
    "# serialize weights to HDF5\n",
    "model.save_weights(\"carpole.h5\")"
   ]
  },
  {
   "cell_type": "code",
   "execution_count": null,
   "metadata": {
    "scrolled": true
   },
   "outputs": [
    {
     "name": "stdout",
     "output_type": "stream",
     "text": [
      "trial 0\n",
      "done score 200.0\n",
      "final score 200.0\n",
      "trial 1\n"
     ]
    }
   ],
   "source": [
    "scores = []\n",
    "num_trials = 20\n",
    "sim_steps = 500\n",
    "\n",
    "for trial in range(num_trials):\n",
    "    print('trial', trial)\n",
    "    observation = env.reset()\n",
    "    score = 0\n",
    "\n",
    "    for step in range(sim_steps):\n",
    "        env.render()\n",
    "        action = np.argmax(model.predict(observation.reshape(1,4)))\n",
    "        observation, reward, done, _ = env.step(action)\n",
    "        score += reward\n",
    "\n",
    "        if done:\n",
    "            print('done score', score)\n",
    "            break\n",
    "\n",
    "    print('final score', score)\n",
    "    scores.append(score)\n",
    "\n",
    "\n",
    "print('mean with NN', np.mean(scores))\n"
   ]
  },
  {
   "cell_type": "code",
   "execution_count": null,
   "metadata": {},
   "outputs": [],
   "source": [
    "env.close()"
   ]
  },
  {
   "cell_type": "code",
   "execution_count": null,
   "metadata": {},
   "outputs": [],
   "source": []
  }
 ],
 "metadata": {
  "kernelspec": {
   "display_name": "Python 3",
   "language": "python",
   "name": "python3"
  },
  "language_info": {
   "codemirror_mode": {
    "name": "ipython",
    "version": 3
   },
   "file_extension": ".py",
   "mimetype": "text/x-python",
   "name": "python",
   "nbconvert_exporter": "python",
   "pygments_lexer": "ipython3",
   "version": "3.6.3"
  }
 },
 "nbformat": 4,
 "nbformat_minor": 2
}
